{
 "cells": [
  {
   "cell_type": "code",
   "execution_count": null,
   "id": "f07bbeb7",
   "metadata": {},
   "outputs": [],
   "source": [
    "import pandas as pd\n",
    "import numpy as np\n",
    "import matplotlib.pyplot as plt\n",
    "import seaborn as sns\n",
    "from sklearn.model_selection import train_test_split\n",
    "from sklearn.linear_model import LinearRegression\n",
    "from sklearn.preprocessing import PolynomialFeatures\n",
    "from sklearn.metrics import mean_absolute_error, mean_squared_error, r2_score"
   ]
  },
  {
   "cell_type": "code",
   "execution_count": null,
   "id": "7839755d",
   "metadata": {},
   "outputs": [],
   "source": [
    "df = pd.read_csv('C:\\\\Users\\\\Hardik\\\\Desktop\\\\ML_Pipeline\\\\Student-Score-Predictor\\\\student_scores_large.csv')\n",
    "print(\"Dataset Shape:\", df.shape)\n",
    "df.head()"
   ]
  },
  {
   "cell_type": "code",
   "execution_count": null,
   "id": "d61a191d",
   "metadata": {},
   "outputs": [],
   "source": [
    "print(\"\\nDataset Info:\")\n",
    "print(df.info())"
   ]
  },
  {
   "cell_type": "code",
   "execution_count": null,
   "id": "1212e2c9",
   "metadata": {},
   "outputs": [],
   "source": [
    "print(\"\\nSummary Statistics:\")\n",
    "print(df.describe())"
   ]
  },
  {
   "cell_type": "code",
   "execution_count": null,
   "id": "aa8c4afd",
   "metadata": {},
   "outputs": [],
   "source": [
    "print(\"\\nMissing values:\\n\", df.isnull().sum())"
   ]
  },
  {
   "cell_type": "code",
   "execution_count": null,
   "id": "6b236cf5",
   "metadata": {},
   "outputs": [],
   "source": [
    "#EDA - Exploratory Data Analysis"
   ]
  },
  {
   "cell_type": "code",
   "execution_count": null,
   "id": "56ab0b5c",
   "metadata": {},
   "outputs": [],
   "source": [
    "# Histogram for Hours and Scores\n",
    "plt.figure(figsize=(12,5))\n",
    "plt.subplot(1,2,1)\n",
    "sns.histplot(df['Hours'], bins=15, kde=True, color='blue')\n",
    "plt.title('Distribution of Study Hours')\n",
    "\n"
   ]
  },
  {
   "cell_type": "code",
   "execution_count": null,
   "id": "00e4ed97",
   "metadata": {},
   "outputs": [],
   "source": [
    "plt.subplot(1,2,2)\n",
    "sns.histplot(df['Scores'], bins=15, kde=True, color='green')\n",
    "plt.title('Distribution of Scores')\n",
    "plt.show()"
   ]
  },
  {
   "cell_type": "code",
   "execution_count": null,
   "id": "59d1e007",
   "metadata": {},
   "outputs": [],
   "source": [
    "# Scatter Plot (Hours vs Scores)\n",
    "plt.figure(figsize=(6,5))\n",
    "sns.scatterplot(x='Hours', y='Scores', data=df, color='blue', s=70)\n",
    "plt.title('Hours vs Scores')\n",
    "plt.xlabel('Study Hours')\n",
    "plt.ylabel('Exam Score')\n",
    "plt.show()"
   ]
  },
  {
   "cell_type": "code",
   "execution_count": null,
   "id": "b3baef10",
   "metadata": {},
   "outputs": [],
   "source": [
    "# Correlation Heatmap\n",
    "plt.figure(figsize=(5,4))\n",
    "sns.heatmap(df.corr(), annot=True, cmap='coolwarm')\n",
    "plt.title('Correlation Heatmap')\n",
    "plt.show()"
   ]
  },
  {
   "cell_type": "code",
   "execution_count": null,
   "id": "573ce386",
   "metadata": {},
   "outputs": [],
   "source": [
    "X = df[['Hours']]\n",
    "y = df['Scores']"
   ]
  },
  {
   "cell_type": "code",
   "execution_count": null,
   "id": "0236b0cd",
   "metadata": {},
   "outputs": [],
   "source": [
    "X_train, X_test, y_train, y_test = train_test_split(X, y, test_size=0.2, random_state=42)\n"
   ]
  },
  {
   "cell_type": "code",
   "execution_count": null,
   "id": "fd796cf7",
   "metadata": {},
   "outputs": [],
   "source": [
    "lr_model = LinearRegression()\n",
    "lr_model.fit(X_train, y_train)"
   ]
  },
  {
   "cell_type": "code",
   "execution_count": null,
   "id": "1de969fc",
   "metadata": {},
   "outputs": [],
   "source": [
    "print(\"\\nModel Coefficient (Slope):\", lr_model.coef_[0])\n",
    "print(\"Model Intercept:\", lr_model.intercept_)"
   ]
  },
  {
   "cell_type": "code",
   "execution_count": null,
   "id": "fe0661dc",
   "metadata": {},
   "outputs": [],
   "source": [
    "print(f\"Interpretation: For every additional hour studied, score increases by approximately {lr_model.coef_[0]:.2f} marks.\")\n"
   ]
  },
  {
   "cell_type": "code",
   "execution_count": null,
   "id": "a106115c",
   "metadata": {},
   "outputs": [],
   "source": [
    "y_pred = lr_model.predict(X_test)"
   ]
  },
  {
   "cell_type": "code",
   "execution_count": null,
   "id": "d9c94c36",
   "metadata": {},
   "outputs": [],
   "source": [
    "comparison = pd.DataFrame({'Actual': y_test, 'Predicted': y_pred})\n",
    "print(\"\\nActual vs Predicted:\\n\", comparison.head())\n"
   ]
  },
  {
   "cell_type": "code",
   "execution_count": null,
   "id": "dc55ff69",
   "metadata": {},
   "outputs": [],
   "source": [
    "mae = mean_absolute_error(y_test, y_pred)\n",
    "rmse = np.sqrt(mean_squared_error(y_test, y_pred))\n",
    "r2 = r2_score(y_test, y_pred)"
   ]
  },
  {
   "cell_type": "code",
   "execution_count": null,
   "id": "6f0aed01",
   "metadata": {},
   "outputs": [],
   "source": [
    "print(\"\\nEvaluation Metrics:\")\n",
    "print(f\"MAE: {mae:.2f}\")\n",
    "print(f\"RMSE: {rmse:.2f}\")\n",
    "print(f\"R² Score: {r2:.2f}\")"
   ]
  },
  {
   "cell_type": "code",
   "execution_count": null,
   "id": "6f1b80ce",
   "metadata": {},
   "outputs": [],
   "source": [
    "#Visualization – Actual vs Predicted\n",
    "plt.figure(figsize=(8,5))\n",
    "plt.scatter(X_test, y_test, color='blue', label='Actual')\n",
    "plt.plot(X_test, y_pred, color='red', linewidth=2, label='Predicted')\n",
    "plt.title('Actual vs Predicted Scores')\n",
    "plt.xlabel('Study Hours')\n",
    "plt.ylabel('Scores')\n",
    "plt.legend()\n",
    "plt.show()"
   ]
  },
  {
   "cell_type": "code",
   "execution_count": null,
   "id": "0bf26e77",
   "metadata": {},
   "outputs": [],
   "source": [
    "residuals = y_test - y_pred\n",
    "plt.figure(figsize=(8,4))\n",
    "sns.histplot(residuals, bins=10, kde=True, color='purple')\n",
    "plt.title('Residual Distribution')\n",
    "plt.xlabel('Residual (Actual - Predicted)')\n",
    "plt.show()\n"
   ]
  },
  {
   "cell_type": "code",
   "execution_count": null,
   "id": "2b32958c",
   "metadata": {},
   "outputs": [],
   "source": [
    "#User Input Prediction\n",
    "try:\n",
    "    user_hours = float(input(\"\\nEnter the number of study hours: \"))\n",
    "    user_pred = lr_model.predict([[user_hours]])\n",
    "    print(f\"Predicted Score for {user_hours} hours: {user_pred[0]:.2f}\")\n",
    "except:\n",
    "    print(\"Invalid input! Please enter a numeric value.\")"
   ]
  },
  {
   "cell_type": "code",
   "execution_count": null,
   "id": "ce397b89",
   "metadata": {},
   "outputs": [],
   "source": [
    "#BONUS: Polynomial Regression (Degree 2)\n",
    "poly = PolynomialFeatures(degree=2)\n",
    "X_poly = poly.fit_transform(X)"
   ]
  },
  {
   "cell_type": "code",
   "execution_count": null,
   "id": "5c9a1c0b",
   "metadata": {},
   "outputs": [],
   "source": [
    "poly_model = LinearRegression()\n",
    "poly_model.fit(X_poly, y)"
   ]
  },
  {
   "cell_type": "code",
   "execution_count": null,
   "id": "02f3ce8b",
   "metadata": {},
   "outputs": [],
   "source": [
    "y_poly_pred = poly_model.predict(poly.transform(X_test))"
   ]
  },
  {
   "cell_type": "code",
   "execution_count": null,
   "id": "69d44c71",
   "metadata": {},
   "outputs": [],
   "source": [
    "poly_r2 = r2_score(y_test, y_poly_pred)\n",
    "print(f\"\\nPolynomial Regression R² Score: {poly_r2:.2f}\")"
   ]
  },
  {
   "cell_type": "code",
   "execution_count": null,
   "id": "d857a5ea",
   "metadata": {},
   "outputs": [],
   "source": [
    "# Compare Linear vs Polynomial visually\n",
    "plt.figure(figsize=(8,5))\n",
    "plt.scatter(X, y, color='blue', label='Actual Data')\n",
    "plt.plot(X, lr_model.predict(X), color='red', label='Linear Regression')\n",
    "plt.scatter(X_test, y_poly_pred, color='green', label='Polynomial Prediction')\n",
    "plt.title('Linear vs Polynomial Regression')\n",
    "plt.xlabel('Study Hours')\n",
    "plt.ylabel('Scores')\n",
    "plt.legend()\n",
    "plt.show()"
   ]
  },
  {
   "cell_type": "code",
   "execution_count": null,
   "id": "b4971c0d",
   "metadata": {},
   "outputs": [],
   "source": [
    "import os\n",
    "\n",
    "# Create 'images' folder if it doesn't exist\n",
    "if not os.path.exists('images'):\n",
    "    os.makedirs('images')\n",
    "\n",
    "# -----------------------------\n",
    "# Save plots\n",
    "\n",
    "# 1. Histogram for Hours and Scores\n",
    "plt.figure(figsize=(12,5))\n",
    "plt.subplot(1,2,1)\n",
    "sns.histplot(df['Hours'], bins=15, kde=True, color='blue')\n",
    "plt.title('Distribution of Study Hours')\n",
    "plt.subplot(1,2,2)\n",
    "sns.histplot(df['Scores'], bins=15, kde=True, color='green')\n",
    "plt.title('Distribution of Scores')\n",
    "plt.savefig('images/histograms.png')\n",
    "plt.close()\n",
    "\n",
    "# 2. Scatter Plot (Hours vs Scores)\n",
    "plt.figure(figsize=(6,5))\n",
    "sns.scatterplot(x='Hours', y='Scores', data=df, color='blue', s=70)\n",
    "plt.title('Hours vs Scores')\n",
    "plt.xlabel('Study Hours')\n",
    "plt.ylabel('Exam Score')\n",
    "plt.savefig('images/scatter_plot.png')\n",
    "plt.close()\n",
    "\n",
    "# 3. Correlation Heatmap\n",
    "plt.figure(figsize=(5,4))\n",
    "sns.heatmap(df.corr(), annot=True, cmap='coolwarm')\n",
    "plt.title('Correlation Heatmap')\n",
    "plt.savefig('images/heatmap.png')\n",
    "plt.close()\n",
    "\n",
    "# 4. Actual vs Predicted\n",
    "plt.figure(figsize=(8,5))\n",
    "plt.scatter(X_test, y_test, color='blue', label='Actual')\n",
    "plt.plot(X_test, y_pred, color='red', linewidth=2, label='Predicted')\n",
    "plt.title('Actual vs Predicted Scores')\n",
    "plt.xlabel('Study Hours')\n",
    "plt.ylabel('Scores')\n",
    "plt.legend()\n",
    "plt.savefig('images/actual_vs_predicted.png')\n",
    "plt.close()\n",
    "\n",
    "# 5. Residual Analysis\n",
    "plt.figure(figsize=(8,4))\n",
    "sns.histplot(residuals, bins=10, kde=True, color='purple')\n",
    "plt.title('Residual Distribution')\n",
    "plt.xlabel('Residual (Actual - Predicted)')\n",
    "plt.savefig('images/residual_distribution.png')\n",
    "plt.close()\n",
    "\n",
    "# 6. Linear vs Polynomial Regression\n",
    "plt.figure(figsize=(8,5))\n",
    "plt.scatter(X, y, color='blue', label='Actual Data')\n",
    "plt.plot(X, lr_model.predict(X), color='red', label='Linear Regression')\n",
    "plt.scatter(X_test, y_poly_pred, color='green', label='Polynomial Prediction')\n",
    "plt.title('Linear vs Polynomial Regression')\n",
    "plt.xlabel('Study Hours')\n",
    "plt.ylabel('Scores')\n",
    "plt.legend()\n",
    "plt.savefig('images/linear_vs_polynomial.png')\n",
    "plt.close()\n",
    "\n",
    "print(\"✅ All plots have been saved in the 'images' folder.\")\n"
   ]
  },
  {
   "cell_type": "code",
   "execution_count": null,
   "id": "dff47ba1",
   "metadata": {},
   "outputs": [],
   "source": []
  }
 ],
 "metadata": {
  "kernelspec": {
   "display_name": "base",
   "language": "python",
   "name": "python3"
  },
  "language_info": {
   "codemirror_mode": {
    "name": "ipython",
    "version": 3
   },
   "file_extension": ".py",
   "mimetype": "text/x-python",
   "name": "python",
   "nbconvert_exporter": "python",
   "pygments_lexer": "ipython3",
   "version": "3.13.5"
  }
 },
 "nbformat": 4,
 "nbformat_minor": 5
}
